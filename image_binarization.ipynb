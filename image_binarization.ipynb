{
  "nbformat": 4,
  "nbformat_minor": 0,
  "metadata": {
    "colab": {
      "provenance": [],
      "authorship_tag": "ABX9TyMhvP3JR+IqqlakEKAX+oY5",
      "include_colab_link": true
    },
    "kernelspec": {
      "name": "python3",
      "display_name": "Python 3"
    },
    "language_info": {
      "name": "python"
    }
  },
  "cells": [
    {
      "cell_type": "markdown",
      "metadata": {
        "id": "view-in-github",
        "colab_type": "text"
      },
      "source": [
        "<a href=\"https://colab.research.google.com/github/cauaalexander/image-binarization/blob/main/image_binarization.ipynb\" target=\"_parent\"><img src=\"https://colab.research.google.com/assets/colab-badge.svg\" alt=\"Open In Colab\"/></a>"
      ]
    },
    {
      "cell_type": "code",
      "execution_count": null,
      "metadata": {
        "id": "yKUaEm5PTCTg"
      },
      "outputs": [],
      "source": [
        "import numpy as np\n",
        "import matplotlib.pyplot as plt\n",
        "import cv2  # Apenas para carregar a imagem, não será usado para processamento\n",
        "\n",
        "def rgb_to_grayscale(image):\n",
        "    \"\"\"Converte uma imagem RGB para níveis de cinza manualmente.\"\"\"\n",
        "    gray = np.dot(image[..., :3], [0.2989, 0.5870, 0.1140])  # Fórmula do NTSC\n",
        "    return gray.astype(np.uint8)\n",
        "\n",
        "def binarize_image(gray_image, threshold=127):\n",
        "    \"\"\"Converte uma imagem em tons de cinza para binária (preto e branco).\"\"\"\n",
        "    binary_image = np.where(gray_image > threshold, 255, 0)\n",
        "    return binary_image.astype(np.uint8)\n",
        "\n",
        "# Carregar a imagem (exemplo: 'imagem.jpg')\n",
        "image = cv2.imread('imagem.jpg')  # Carrega a imagem em BGR\n",
        "image = cv2.cvtColor(image, cv2.COLOR_BGR2RGB)  # Converte para RGB\n",
        "\n",
        "gray_image = rgb_to_grayscale(image)  # Converter para cinza\n",
        "binary_image = binarize_image(gray_image)  # Converter para binário\n",
        "\n",
        "# Exibir os resultados\n",
        "fig, ax = plt.subplots(1, 3, figsize=(12, 4))\n",
        "ax[0].imshow(image)\n",
        "ax[0].set_title(\"Imagem Original\")\n",
        "ax[0].axis(\"off\")\n",
        "\n",
        "ax[1].imshow(gray_image, cmap='gray')\n",
        "ax[1].set_title(\"Imagem em Tons de Cinza\")\n",
        "ax[1].axis(\"off\")\n",
        "\n",
        "ax[2].imshow(binary_image, cmap='gray')\n",
        "ax[2].set_title(\"Imagem Binarizada\")\n",
        "ax[2].axis(\"off\")\n",
        "\n",
        "plt.show()\n"
      ]
    },
    {
      "cell_type": "code",
      "source": [
        "!git clone https://github.com/cauaalexander/image-binarization.git\n"
      ],
      "metadata": {
        "colab": {
          "base_uri": "https://localhost:8080/"
        },
        "id": "TK5JaItKUp7_",
        "outputId": "857cf2cf-4ec8-4202-89d0-8bb29dec4b03"
      },
      "execution_count": 2,
      "outputs": [
        {
          "output_type": "stream",
          "name": "stdout",
          "text": [
            "Cloning into 'image-binarization'...\n",
            "remote: Enumerating objects: 3, done.\u001b[K\n",
            "remote: Counting objects: 100% (3/3), done.\u001b[K\n",
            "remote: Total 3 (delta 0), reused 0 (delta 0), pack-reused 0 (from 0)\u001b[K\n",
            "Receiving objects: 100% (3/3), done.\n"
          ]
        }
      ]
    },
    {
      "cell_type": "code",
      "source": [
        "%cd image-binarization\n"
      ],
      "metadata": {
        "colab": {
          "base_uri": "https://localhost:8080/"
        },
        "id": "63442TnyU3BA",
        "outputId": "88535525-cc16-4b93-b0e0-c6e5d03c4ae2"
      },
      "execution_count": 3,
      "outputs": [
        {
          "output_type": "stream",
          "name": "stdout",
          "text": [
            "/content/image-binarization\n"
          ]
        }
      ]
    }
  ]
}